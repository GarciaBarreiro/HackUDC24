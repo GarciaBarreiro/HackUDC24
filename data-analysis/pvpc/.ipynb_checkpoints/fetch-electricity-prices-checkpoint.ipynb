{
 "cells": [
  {
   "cell_type": "code",
   "execution_count": 1,
   "id": "1dd4c7cc",
   "metadata": {},
   "outputs": [
    {
     "ename": "ModuleNotFoundError",
     "evalue": "No module named 'pvpc'",
     "output_type": "error",
     "traceback": [
      "\u001b[0;31m---------------------------------------------------------------------------\u001b[0m",
      "\u001b[0;31mModuleNotFoundError\u001b[0m                       Traceback (most recent call last)",
      "Cell \u001b[0;32mIn[1], line 1\u001b[0m\n\u001b[0;32m----> 1\u001b[0m \u001b[38;5;28;01mimport\u001b[39;00m \u001b[38;5;21;01mpvpc\u001b[39;00m\n\u001b[1;32m      3\u001b[0m \u001b[38;5;66;03m# Obtener valores para un día\u001b[39;00m\n\u001b[1;32m      4\u001b[0m r \u001b[38;5;241m=\u001b[39m pvpc\u001b[38;5;241m.\u001b[39mget_pvpc_day(\u001b[38;5;124m\"\u001b[39m\u001b[38;5;124m2021-12-12\u001b[39m\u001b[38;5;124m\"\u001b[39m)\n",
      "\u001b[0;31mModuleNotFoundError\u001b[0m: No module named 'pvpc'"
     ]
    }
   ],
   "source": [
    "import pvpc\n",
    "\n",
    "# Obtener valores para un día\n",
    "r = pvpc.get_pvpc_day(\"2021-12-12\")\n",
    "# Argumento de función: fecha, que puede ser objeto datetime.date, o string en formato YYYY-MM-DD\n",
    "# Devuelve un objeto models.PVPCDay (basado en Pydantic)\n",
    "\n",
    "# Si una fecha todavía no tiene valores disponibles, lanza excepción propia PVPCNoDataForDay.\n",
    "# REE actualiza los precios a última hora de la tarde del día anterior.\n",
    "try:\n",
    "    r = pvpc.get_pvpc_day(\"3001-12-12\")\n",
    "except pvpc.PVPCNoDataForDay:\n",
    "    print(\"No data for day!\")\n",
    "\n",
    "# Obtener todos los valores, por hora...\n",
    "# ...para Peninsula/Canarias/Baleares:\n",
    "data = r.data.pcb.hours\n",
    "# ...para Ceuta/Melilla:\n",
    "data = r.data.cm.hours\n",
    "\n",
    "# \"hours\" es un diccionario, donde clave = horas del día, valores = coste en €/kWh\n",
    "for hour, cost in data.items():\n",
    "    print(f\"{hour}h: {cost} €/kWh\")\n",
    "    # Ejemplo: \"0h: 0.33694 €/kWh\"\n",
    "\n",
    "# Convertir a diccionario\n",
    "r.dict()\n",
    "# Convertir a string JSON\n",
    "r.json()"
   ]
  },
  {
   "cell_type": "code",
   "execution_count": null,
   "id": "5aeb88a0",
   "metadata": {},
   "outputs": [],
   "source": []
  }
 ],
 "metadata": {
  "kernelspec": {
   "display_name": "Python 3 (ipykernel)",
   "language": "python",
   "name": "python3"
  },
  "language_info": {
   "codemirror_mode": {
    "name": "ipython",
    "version": 3
   },
   "file_extension": ".py",
   "mimetype": "text/x-python",
   "name": "python",
   "nbconvert_exporter": "python",
   "pygments_lexer": "ipython3",
   "version": "3.11.5"
  }
 },
 "nbformat": 4,
 "nbformat_minor": 5
}
